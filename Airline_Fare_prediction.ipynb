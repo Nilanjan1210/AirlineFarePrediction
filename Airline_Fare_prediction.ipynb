{
  "nbformat": 4,
  "nbformat_minor": 0,
  "metadata": {
    "colab": {
      "provenance": []
    },
    "kernelspec": {
      "name": "python3",
      "display_name": "Python 3"
    },
    "language_info": {
      "name": "python"
    }
  },
  "cells": [
    {
      "cell_type": "code",
      "execution_count": 34,
      "metadata": {
        "id": "xcbQG-FA-uuB"
      },
      "outputs": [],
      "source": [
        "# Data manipulation\n",
        "import pandas as pd\n",
        "import numpy as np\n",
        "\n",
        "# EDA\n",
        "import matplotlib.pyplot as plt\n",
        "import seaborn as sb\n"
      ]
    },
    {
      "cell_type": "code",
      "source": [
        "url = \"/content/Airline_fare.csv\""
      ],
      "metadata": {
        "id": "JvGdhmQfBM7V"
      },
      "execution_count": 35,
      "outputs": []
    },
    {
      "cell_type": "code",
      "source": [
        "df = pd.read_csv(url, index_col = \"Unnamed: 0\")"
      ],
      "metadata": {
        "id": "APB2BZub-_ej"
      },
      "execution_count": 36,
      "outputs": []
    },
    {
      "cell_type": "markdown",
      "source": [
        "## Structure"
      ],
      "metadata": {
        "id": "9eu7EfOMPOT7"
      }
    },
    {
      "cell_type": "code",
      "source": [
        "print(df.head())"
      ],
      "metadata": {
        "colab": {
          "base_uri": "https://localhost:8080/"
        },
        "id": "TYMt5NWdAgY8",
        "outputId": "9b347b10-503d-4144-aee6-1f1b8600800f"
      },
      "execution_count": 37,
      "outputs": [
        {
          "output_type": "stream",
          "name": "stdout",
          "text": [
            "    airline   flight source_city departure_time stops   arrival_time  \\\n",
            "0  SpiceJet  SG-8709       Delhi        Evening  zero          Night   \n",
            "1  SpiceJet  SG-8157       Delhi  Early_Morning  zero        Morning   \n",
            "2   AirAsia   I5-764       Delhi  Early_Morning  zero  Early_Morning   \n",
            "3   Vistara   UK-995       Delhi        Morning  zero      Afternoon   \n",
            "4   Vistara   UK-963       Delhi        Morning  zero        Morning   \n",
            "\n",
            "  destination_city    class  duration  days_left  price  \n",
            "0           Mumbai  Economy      2.17          1   5953  \n",
            "1           Mumbai  Economy      2.33          1   5953  \n",
            "2           Mumbai  Economy      2.17          1   5956  \n",
            "3           Mumbai  Economy      2.25          1   5955  \n",
            "4           Mumbai  Economy      2.33          1   5955  \n"
          ]
        }
      ]
    },
    {
      "cell_type": "code",
      "source": [
        "print(df.shape)"
      ],
      "metadata": {
        "colab": {
          "base_uri": "https://localhost:8080/"
        },
        "id": "ZXN3ibv5AgWy",
        "outputId": "36912e48-ee2c-4289-dbfb-7078365e31b0"
      },
      "execution_count": 38,
      "outputs": [
        {
          "output_type": "stream",
          "name": "stdout",
          "text": [
            "(300153, 11)\n"
          ]
        }
      ]
    },
    {
      "cell_type": "code",
      "source": [
        "print(df.info())"
      ],
      "metadata": {
        "colab": {
          "base_uri": "https://localhost:8080/"
        },
        "id": "TNHFjuhaO825",
        "outputId": "3c4c5d75-9e35-411e-ed8a-ed7f28fc877b"
      },
      "execution_count": 39,
      "outputs": [
        {
          "output_type": "stream",
          "name": "stdout",
          "text": [
            "<class 'pandas.core.frame.DataFrame'>\n",
            "Index: 300153 entries, 0 to 300152\n",
            "Data columns (total 11 columns):\n",
            " #   Column            Non-Null Count   Dtype  \n",
            "---  ------            --------------   -----  \n",
            " 0   airline           300153 non-null  object \n",
            " 1   flight            300153 non-null  object \n",
            " 2   source_city       300153 non-null  object \n",
            " 3   departure_time    300153 non-null  object \n",
            " 4   stops             300153 non-null  object \n",
            " 5   arrival_time      300153 non-null  object \n",
            " 6   destination_city  300153 non-null  object \n",
            " 7   class             300153 non-null  object \n",
            " 8   duration          300153 non-null  float64\n",
            " 9   days_left         300153 non-null  int64  \n",
            " 10  price             300153 non-null  int64  \n",
            "dtypes: float64(1), int64(2), object(8)\n",
            "memory usage: 27.5+ MB\n",
            "None\n"
          ]
        }
      ]
    },
    {
      "cell_type": "code",
      "source": [
        "print(df.describe().round(2).T)"
      ],
      "metadata": {
        "colab": {
          "base_uri": "https://localhost:8080/"
        },
        "id": "KQ1YXTrzPA6S",
        "outputId": "324822df-1592-46a9-a2f1-d30c5a3d32fa"
      },
      "execution_count": 40,
      "outputs": [
        {
          "output_type": "stream",
          "name": "stdout",
          "text": [
            "              count      mean       std      min      25%      50%       75%  \\\n",
            "duration   300153.0     12.22      7.19     0.83     6.83    11.25     16.17   \n",
            "days_left  300153.0     26.00     13.56     1.00    15.00    26.00     38.00   \n",
            "price      300153.0  20889.66  22697.77  1105.00  4783.00  7425.00  42521.00   \n",
            "\n",
            "                 max  \n",
            "duration       49.83  \n",
            "days_left      49.00  \n",
            "price      123071.00  \n"
          ]
        }
      ]
    },
    {
      "cell_type": "markdown",
      "source": [
        "## Data Cleaning and Manipulation"
      ],
      "metadata": {
        "id": "_TnJlLcgP6kU"
      }
    },
    {
      "cell_type": "code",
      "source": [
        "print(f'The dataset contains {df.isnull().sum().sum()} null values.')"
      ],
      "metadata": {
        "colab": {
          "base_uri": "https://localhost:8080/"
        },
        "id": "nsx9Rsh5AgUW",
        "outputId": "ec844150-09d9-4c31-b20e-093a476809e6"
      },
      "execution_count": 41,
      "outputs": [
        {
          "output_type": "stream",
          "name": "stdout",
          "text": [
            "The dataset contains 0 null values.\n"
          ]
        }
      ]
    },
    {
      "cell_type": "code",
      "source": [
        "print(f'The dataset contains {df.duplicated().sum()} duplicated values.')"
      ],
      "metadata": {
        "colab": {
          "base_uri": "https://localhost:8080/"
        },
        "id": "Mz1IklFSAgSM",
        "outputId": "b1fb999f-52f0-4796-8441-623637a48214"
      },
      "execution_count": 42,
      "outputs": [
        {
          "output_type": "stream",
          "name": "stdout",
          "text": [
            "The dataset contains 0 duplicated values.\n"
          ]
        }
      ]
    },
    {
      "cell_type": "markdown",
      "source": [
        "## outliers"
      ],
      "metadata": {
        "id": "VTWfkP_NU9Cd"
      }
    },
    {
      "cell_type": "code",
      "source": [
        "sb.set_style('darkgrid')\n",
        "sb.boxplot(x='price',data = df)\n",
        "plt.title('Boxplot of Airline Fare Price')\n",
        "plt.show()"
      ],
      "metadata": {
        "colab": {
          "base_uri": "https://localhost:8080/",
          "height": 472
        },
        "id": "WRnmmQFuQHO2",
        "outputId": "37ad6638-d975-4daa-a4a4-321243ac9f0a"
      },
      "execution_count": 43,
      "outputs": [
        {
          "output_type": "display_data",
          "data": {
            "text/plain": [
              "<Figure size 640x480 with 1 Axes>"
            ],
            "image/png": "[encoded data removed]"
          },
          "metadata": {}
        }
      ]
    },
    {
      "cell_type": "code",
      "source": [
        "sb.displot(x = 'price', data = df,kind = 'hist',kde = True,bins =30)\n",
        "plt.show()"
      ],
      "metadata": {
        "id": "UEMsZ4ZrVI4m",
        "colab": {
          "base_uri": "https://localhost:8080/",
          "height": 506
        },
        "outputId": "18630ae2-e68b-47b3-9772-3bb7e933d042"
      },
      "execution_count": 44,
      "outputs": [
        {
          "output_type": "display_data",
          "data": {
            "text/plain": [
              "<Figure size 500x500 with 1 Axes>"
            ],
            "image/png": "[encoded data removed]"
          },
          "metadata": {}
        }
      ]
    },
    {
      "cell_type": "code",
      "source": [
        "sb.boxplot(x='duration',data = df)\n",
        "plt.title('Boxplot of Travel Time')\n",
        "plt.show()"
      ],
      "metadata": {
        "colab": {
          "base_uri": "https://localhost:8080/",
          "height": 472
        },
        "id": "jG1xCa8WXRwo",
        "outputId": "cfa44f5e-0591-4e21-f2a5-2ae15106103f"
      },
      "execution_count": 45,
      "outputs": [
        {
          "output_type": "display_data",
          "data": {
            "text/plain": [
              "<Figure size 640x480 with 1 Axes>"
            ],
            "image/png": "[encoded data removed]"
          },
          "metadata": {}
        }
      ]
    },
    {
      "cell_type": "code",
      "source": [
        "price_Q1 = df['price'].quantile(0.25)\n",
        "price_Q3 = df['price'].quantile(0.75)\n",
        "price_IQR = price_Q3 - price_Q1\n",
        "\n",
        "price_upper = price_Q3 + 1.5 * price_IQR\n",
        "price_lower = price_Q1 - 1.5 * price_IQR\n",
        "\n",
        "df_clean = df[(df['price'] > price_lower) & (df['price'] < price_upper)].copy()\n",
        "df_clean.reset_index()\n",
        "print(df_clean.head())"
      ],
      "metadata": {
        "id": "CtIz9KmlNcIe",
        "colab": {
          "base_uri": "https://localhost:8080/"
        },
        "outputId": "09146515-7ccd-4d6c-8149-385eab561fc8"
      },
      "execution_count": 46,
      "outputs": [
        {
          "output_type": "stream",
          "name": "stdout",
          "text": [
            "    airline   flight source_city departure_time stops   arrival_time  \\\n",
            "0  SpiceJet  SG-8709       Delhi        Evening  zero          Night   \n",
            "1  SpiceJet  SG-8157       Delhi  Early_Morning  zero        Morning   \n",
            "2   AirAsia   I5-764       Delhi  Early_Morning  zero  Early_Morning   \n",
            "3   Vistara   UK-995       Delhi        Morning  zero      Afternoon   \n",
            "4   Vistara   UK-963       Delhi        Morning  zero        Morning   \n",
            "\n",
            "  destination_city    class  duration  days_left  price  \n",
            "0           Mumbai  Economy      2.17          1   5953  \n",
            "1           Mumbai  Economy      2.33          1   5953  \n",
            "2           Mumbai  Economy      2.17          1   5956  \n",
            "3           Mumbai  Economy      2.25          1   5955  \n",
            "4           Mumbai  Economy      2.33          1   5955  \n"
          ]
        }
      ]
    },
    {
      "cell_type": "code",
      "source": [
        "print(df[df['price'] >= price_upper].sample(5))"
      ],
      "metadata": {
        "id": "JZhV-bJY647S",
        "colab": {
          "base_uri": "https://localhost:8080/"
        },
        "outputId": "fc420b44-ed46-4a8a-d385-321fdd29402a"
      },
      "execution_count": 47,
      "outputs": [
        {
          "output_type": "stream",
          "name": "stdout",
          "text": [
            "        airline  flight source_city departure_time        stops  \\\n",
            "215859  Vistara  UK-809       Delhi        Evening  two_or_more   \n",
            "291083  Vistara  UK-834     Chennai        Evening          one   \n",
            "293474  Vistara  UK-836     Chennai        Morning          one   \n",
            "287664  Vistara  UK-822     Chennai        Morning          one   \n",
            "248968  Vistara  UK-814   Bangalore          Night          one   \n",
            "\n",
            "         arrival_time destination_city     class  duration  days_left   price  \n",
            "215859        Evening          Kolkata  Business     21.08          1  116562  \n",
            "291083  Early_Morning           Mumbai  Business     14.75         13  106416  \n",
            "293474          Night        Bangalore  Business      9.67          3  107597  \n",
            "287664          Night            Delhi  Business     11.42          2  103683  \n",
            "248968        Morning           Mumbai  Business     14.42          5   99680  \n"
          ]
        }
      ]
    },
    {
      "cell_type": "code",
      "source": [
        "duration_Q1 = df_clean['duration'].quantile(0.25)\n",
        "duration_Q3 = df_clean['duration'].quantile(0.75)\n",
        "duration_IQR = duration_Q3 - duration_Q1\n",
        "\n",
        "duration_upper = duration_Q3 + 1.5 * duration_IQR\n",
        "duration_lower = duration_Q1 - 1.5 * duration_IQR\n",
        "\n",
        "df_clean = df_clean[(df_clean['duration'] > duration_lower) & (df_clean['duration'] < duration_upper)].copy()\n",
        "df_clean.reset_index()\n",
        "print(df_clean.head())"
      ],
      "metadata": {
        "colab": {
          "base_uri": "https://localhost:8080/"
        },
        "id": "f4spR-zJXRtJ",
        "outputId": "23176dee-d9cf-4b21-d0e1-ec6d29adad40"
      },
      "execution_count": 48,
      "outputs": [
        {
          "output_type": "stream",
          "name": "stdout",
          "text": [
            "    airline   flight source_city departure_time stops   arrival_time  \\\n",
            "0  SpiceJet  SG-8709       Delhi        Evening  zero          Night   \n",
            "1  SpiceJet  SG-8157       Delhi  Early_Morning  zero        Morning   \n",
            "2   AirAsia   I5-764       Delhi  Early_Morning  zero  Early_Morning   \n",
            "3   Vistara   UK-995       Delhi        Morning  zero      Afternoon   \n",
            "4   Vistara   UK-963       Delhi        Morning  zero        Morning   \n",
            "\n",
            "  destination_city    class  duration  days_left  price  \n",
            "0           Mumbai  Economy      2.17          1   5953  \n",
            "1           Mumbai  Economy      2.33          1   5953  \n",
            "2           Mumbai  Economy      2.17          1   5956  \n",
            "3           Mumbai  Economy      2.25          1   5955  \n",
            "4           Mumbai  Economy      2.33          1   5955  \n"
          ]
        }
      ]
    },
    {
      "cell_type": "code",
      "source": [
        "sb.set_style('darkgrid')\n",
        "sb.barplot(df_clean, x = 'airline', y = 'price', hue = 'class')\n",
        "plt.title('Airline x Price')\n",
        "plt.show()"
      ],
      "metadata": {
        "colab": {
          "base_uri": "https://localhost:8080/",
          "height": 472
        },
        "id": "No_MbJmDqJ7D",
        "outputId": "c30f01d2-b7e2-4426-80e5-12a84dc6d023"
      },
      "execution_count": 49,
      "outputs": [
        {
          "output_type": "display_data",
          "data": {
            "text/plain": [
              "<Figure size 640x480 with 1 Axes>"
            ],
            "image/png": "[encoded data removed]"
          },
          "metadata": {}
        }
      ]
    },
    {
      "cell_type": "code",
      "source": [
        "airline =df_clean.drop('flight',axis = 1)"
      ],
      "metadata": {
        "id": "GlpsuAteXyl_"
      },
      "execution_count": 50,
      "outputs": []
    },
    {
      "cell_type": "code",
      "source": [
        "from sklearn.model_selection import train_test_split"
      ],
      "metadata": {
        "id": "yWBc_OayZzr3"
      },
      "execution_count": 51,
      "outputs": []
    },
    {
      "cell_type": "code",
      "source": [
        "X_train, X_test, y_train, y_test = train_test_split(airline.drop('price',axis = 1), airline['price'],random_state = 1234, test_size = 0.3)"
      ],
      "metadata": {
        "id": "Nlw67o7FZ3Vd"
      },
      "execution_count": 52,
      "outputs": []
    },
    {
      "cell_type": "code",
      "source": [
        "from sklearn.compose import ColumnTransformer\n",
        "from sklearn.preprocessing import OneHotEncoder\n",
        "from sklearn.preprocessing import OrdinalEncoder"
      ],
      "metadata": {
        "id": "YxsxVr9xY2b9"
      },
      "execution_count": 53,
      "outputs": []
    },
    {
      "cell_type": "code",
      "source": [
        "Transformer = ColumnTransformer(\n",
        "    transformers=[\n",
        "        ('tnf1', OneHotEncoder(sparse = False, drop='first'),['airline','source_city','departure_time','destination_city','arrival_time']),\n",
        "        ('tnf2',OrdinalEncoder(categories=[['zero', 'one', 'two_or_more'],['Economy', 'Business']]),['stops','class']),\n",
        "    ],remainder='passthrough'\n",
        ")"
      ],
      "metadata": {
        "id": "RN8OxOwgZQpz"
      },
      "execution_count": 54,
      "outputs": []
    },
    {
      "cell_type": "code",
      "source": [
        "Transformer.fit(X_train)\n",
        "\n",
        "X_train = Transformer.transform(X_train)\n",
        "X_test = Transformer.transform(X_test)\n"
      ],
      "metadata": {
        "colab": {
          "base_uri": "https://localhost:8080/"
        },
        "id": "FXhzSawZdfAK",
        "outputId": "255e0660-6f2e-4531-adef-d8a447b98686"
      },
      "execution_count": 55,
      "outputs": [
        {
          "output_type": "stream",
          "name": "stderr",
          "text": [
            "/usr/local/lib/python3.10/dist-packages/sklearn/preprocessing/_encoders.py:868: FutureWarning: `sparse` was renamed to `sparse_output` in version 1.2 and will be removed in 1.4. `sparse_output` is ignored unless you leave `sparse` to its default value.\n",
            "  warnings.warn(\n"
          ]
        }
      ]
    },
    {
      "cell_type": "code",
      "source": [
        "print('No of independent freture are ',len(X_train[0]))"
      ],
      "metadata": {
        "colab": {
          "base_uri": "https://localhost:8080/"
        },
        "id": "O0cXJ22Sjcs1",
        "outputId": "4f3cee2d-6256-46ca-866c-a71a0e342219"
      },
      "execution_count": 56,
      "outputs": [
        {
          "output_type": "stream",
          "name": "stdout",
          "text": [
            "No of independent freture are  29\n"
          ]
        }
      ]
    },
    {
      "cell_type": "code",
      "source": [
        "from sklearn.linear_model import LinearRegression"
      ],
      "metadata": {
        "id": "cXhX_1yIeGsv"
      },
      "execution_count": 57,
      "outputs": []
    },
    {
      "cell_type": "code",
      "source": [
        "LR = LinearRegression()"
      ],
      "metadata": {
        "id": "14zMPVCgeGvQ"
      },
      "execution_count": 58,
      "outputs": []
    },
    {
      "cell_type": "code",
      "source": [
        "LR.fit(X_train, y_train)"
      ],
      "metadata": {
        "colab": {
          "base_uri": "https://localhost:8080/",
          "height": 74
        },
        "id": "w-Ve1iuTeGxv",
        "outputId": "ba5b2975-4724-4a81-85ae-26cc55f4ed32"
      },
      "execution_count": 59,
      "outputs": [
        {
          "output_type": "execute_result",
          "data": {
            "text/plain": [
              "LinearRegression()"
            ],
            "text/html": [
              "<style>#sk-container-id-2 {color: black;background-color: white;}#sk-container-id-2 pre{padding: 0;}#sk-container-id-2 div.sk-toggleable {background-color: white;}#sk-container-id-2 label.sk-toggleable__label {cursor: pointer;display: block;width: 100%;margin-bottom: 0;padding: 0.3em;box-sizing: border-box;text-align: center;}#sk-container-id-2 label.sk-toggleable__label-arrow:before {content: \"▸\";float: left;margin-right: 0.25em;color: #696969;}#sk-container-id-2 label.sk-toggleable__label-arrow:hover:before {color: black;}#sk-container-id-2 div.sk-estimator:hover label.sk-toggleable__label-arrow:before {color: black;}#sk-container-id-2 div.sk-toggleable__content {max-height: 0;max-width: 0;overflow: hidden;text-align: left;background-color: #f0f8ff;}#sk-container-id-2 div.sk-toggleable__content pre {margin: 0.2em;color: black;border-radius: 0.25em;background-color: #f0f8ff;}#sk-container-id-2 input.sk-toggleable__control:checked~div.sk-toggleable__content {max-height: 200px;max-width: 100%;overflow: auto;}#sk-container-id-2 input.sk-toggleable__control:checked~label.sk-toggleable__label-arrow:before {content: \"▾\";}#sk-container-id-2 div.sk-estimator input.sk-toggleable__control:checked~label.sk-toggleable__label {background-color: #d4ebff;}#sk-container-id-2 div.sk-label input.sk-toggleable__control:checked~label.sk-toggleable__label {background-color: #d4ebff;}#sk-container-id-2 input.sk-hidden--visually {border: 0;clip: rect(1px 1px 1px 1px);clip: rect(1px, 1px, 1px, 1px);height: 1px;margin: -1px;overflow: hidden;padding: 0;position: absolute;width: 1px;}#sk-container-id-2 div.sk-estimator {font-family: monospace;background-color: #f0f8ff;border: 1px dotted black;border-radius: 0.25em;box-sizing: border-box;margin-bottom: 0.5em;}#sk-container-id-2 div.sk-estimator:hover {background-color: #d4ebff;}#sk-container-id-2 div.sk-parallel-item::after {content: \"\";width: 100%;border-bottom: 1px solid gray;flex-grow: 1;}#sk-container-id-2 div.sk-label:hover label.sk-toggleable__label {background-color: #d4ebff;}#sk-container-id-2 div.sk-serial::before {content: \"\";position: absolute;border-left: 1px solid gray;box-sizing: border-box;top: 0;bottom: 0;left: 50%;z-index: 0;}#sk-container-id-2 div.sk-serial {display: flex;flex-direction: column;align-items: center;background-color: white;padding-right: 0.2em;padding-left: 0.2em;position: relative;}#sk-container-id-2 div.sk-item {position: relative;z-index: 1;}#sk-container-id-2 div.sk-parallel {display: flex;align-items: stretch;justify-content: center;background-color: white;position: relative;}#sk-container-id-2 div.sk-item::before, #sk-container-id-2 div.sk-parallel-item::before {content: \"\";position: absolute;border-left: 1px solid gray;box-sizing: border-box;top: 0;bottom: 0;left: 50%;z-index: -1;}#sk-container-id-2 div.sk-parallel-item {display: flex;flex-direction: column;z-index: 1;position: relative;background-color: white;}#sk-container-id-2 div.sk-parallel-item:first-child::after {align-self: flex-end;width: 50%;}#sk-container-id-2 div.sk-parallel-item:last-child::after {align-self: flex-start;width: 50%;}#sk-container-id-2 div.sk-parallel-item:only-child::after {width: 0;}#sk-container-id-2 div.sk-dashed-wrapped {border: 1px dashed gray;margin: 0 0.4em 0.5em 0.4em;box-sizing: border-box;padding-bottom: 0.4em;background-color: white;}#sk-container-id-2 div.sk-label label {font-family: monospace;font-weight: bold;display: inline-block;line-height: 1.2em;}#sk-container-id-2 div.sk-label-container {text-align: center;}#sk-container-id-2 div.sk-container {/* jupyter's `normalize.less` sets `[hidden] { display: none; }` but bootstrap.min.css set `[hidden] { display: none !important; }` so we also need the `!important` here to be able to override the default hidden behavior on the sphinx rendered scikit-learn.org. See: https://github.com/scikit-learn/scikit-learn/issues/21755 */display: inline-block !important;position: relative;}#sk-container-id-2 div.sk-text-repr-fallback {display: none;}</style><div id=\"sk-container-id-2\" class=\"sk-top-container\"><div class=\"sk-text-repr-fallback\"><pre>LinearRegression()</pre><b>In a Jupyter environment, please rerun this cell to show the HTML representation or trust the notebook. <br />On GitHub, the HTML representation is unable to render, please try loading this page with nbviewer.org.</b></div><div class=\"sk-container\" hidden><div class=\"sk-item\"><div class=\"sk-estimator sk-toggleable\"><input class=\"sk-toggleable__control sk-hidden--visually\" id=\"sk-estimator-id-2\" type=\"checkbox\" checked><label for=\"sk-estimator-id-2\" class=\"sk-toggleable__label sk-toggleable__label-arrow\">LinearRegression</label><div class=\"sk-toggleable__content\"><pre>LinearRegression()</pre></div></div></div></div></div>"
            ]
          },
          "metadata": {},
          "execution_count": 59
        }
      ]
    },
    {
      "cell_type": "code",
      "source": [
        "print(\"Coefficent are\", LR.coef_, \"\\nIntercept is \", LR.intercept_)"
      ],
      "metadata": {
        "colab": {
          "base_uri": "https://localhost:8080/"
        },
        "id": "8v1Dst2feG1P",
        "outputId": "e441301d-aea2-4b37-cdcd-4a0dbf276e18"
      },
      "execution_count": 60,
      "outputs": [
        {
          "output_type": "stream",
          "name": "stdout",
          "text": [
            "Coefficent are [  294.07066512  2180.95922076  2485.46722381  2511.17331123\n",
            "  4253.06893279  -137.97533448 -1504.05791838 -1672.37757537\n",
            "  1429.65238679  -242.97691358   704.82491327   595.66719109\n",
            "  1403.27725755   793.23570187   661.01375446  -282.76057668\n",
            " -1514.34929458 -1724.36742661  1316.89992128    46.69269733\n",
            "  -828.00961771   890.20779351   945.43293583   339.28977581\n",
            "  1102.12800132  5685.98627543 45100.24135786    81.69946077\n",
            "  -127.08885192] \n",
            "Intercept is  883.4324784316486\n"
          ]
        }
      ]
    },
    {
      "cell_type": "code",
      "source": [
        "from sklearn.metrics import r2_score ,mean_squared_error"
      ],
      "metadata": {
        "id": "bFc0PIR5kxo_"
      },
      "execution_count": 64,
      "outputs": []
    },
    {
      "cell_type": "code",
      "source": [
        "y_test_pred = LR.predict(X_test)\n",
        "y_train_pred = LR.predict(X_train)"
      ],
      "metadata": {
        "id": "7tMZ9trtib6D"
      },
      "execution_count": 62,
      "outputs": []
    },
    {
      "cell_type": "code",
      "source": [
        "print('Test R2 Score', r2_score(y_test, y_test_pred))\n",
        "print(\"MSE of test data\",mean_squared_error(y_test, y_test_pred).round(2))\n",
        "print('Train R2 Score', r2_score(y_train, y_train_pred))\n",
        "print(\"MSE of train data\",mean_squared_error(y_train, y_train_pred).round(2))"
      ],
      "metadata": {
        "colab": {
          "base_uri": "https://localhost:8080/"
        },
        "id": "g07AktEAlOek",
        "outputId": "68f2f5c7-12cd-4a7b-db03-672571631013"
      },
      "execution_count": 67,
      "outputs": [
        {
          "output_type": "stream",
          "name": "stdout",
          "text": [
            "Test R2 Score 0.9112296368477337\n",
            "MSE of test data 45537496.84\n",
            "Train R2 Score 0.9110894860902594\n",
            "MSE of train data 45741650.98\n"
          ]
        }
      ]
    }
  ]
}